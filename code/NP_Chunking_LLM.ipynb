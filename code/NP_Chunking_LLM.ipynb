{
  "nbformat": 4,
  "nbformat_minor": 0,
  "metadata": {
    "colab": {
      "provenance": []
    },
    "kernelspec": {
      "name": "python3",
      "display_name": "Python 3"
    },
    "language_info": {
      "name": "python"
    }
  },
  "cells": [
    {
      "cell_type": "markdown",
      "source": [
        "NP-CHUNKING (I-O-B tagging) with LLMs.  \n",
        "\n",
        "Stephan Raaijmakers, LUCL, 28.03.2025"
      ],
      "metadata": {
        "id": "O8PDeeLXrBFv"
      }
    },
    {
      "cell_type": "code",
      "execution_count": 2,
      "metadata": {
        "id": "kgNt2X56qGEJ"
      },
      "outputs": [],
      "source": [
        "from transformers import AutoModelForCausalLM , AutoTokenizer, pipeline\n",
        "from huggingface_hub import InferenceClient\n",
        "import sys\n",
        "from tqdm import tqdm\n",
        "import torch\n",
        "import torch.nn as nn\n",
        "import torch.nn.functional as F\n",
        "import torch.optim as optim\n",
        "import os\n",
        "import re"
      ]
    },
    {
      "cell_type": "code",
      "source": [
        "from google.colab import userdata\n",
        "HUGGINGFACE_TOKEN=userdata.get('HF_TOKEN')"
      ],
      "metadata": {
        "id": "Usl4J19uqqQ9"
      },
      "execution_count": 4,
      "outputs": []
    },
    {
      "cell_type": "markdown",
      "source": [
        "Notice you will need a Huggingface PRO account ($9/mo) for the InferenceClient on non-free tier models."
      ],
      "metadata": {
        "id": "RzcFGjsP-_nM"
      }
    },
    {
      "cell_type": "code",
      "source": [
        "def generate_iob_tags(lines, output_file):\n",
        "    print(\"Generating IOB tags...\")\n",
        "    #HUGGINGFACE_TOKEN=os.environ[\"HUGGINGFACE_TOKEN\"] # run first: export HUGGINGFACE_TOKEN=\"...\" in shell\n",
        "    outp=open(output_file,\"w\")\n",
        "\n",
        "    client = InferenceClient(\n",
        "                api_key=HUGGINGFACE_TOKEN,\n",
        "            )\n",
        "    for i in tqdm(range(len(lines))):\n",
        "        sentence=' '.join(lines[i])\n",
        "\n",
        "        messages = [\n",
        "\t                {\n",
        "\t\t            \"role\": \"user\",\n",
        "\t\t            \"content\": \"Assign IOB tags for NP-chunking to the following sentence. Check that no taggings are repeated in your output. Every word in the sentence should have just one tag. If you have multiple options just output one. Tags are limited to O, B-NP, I-NP. Output format is: word/tag, per separate word. Example: The sandwich was good. Output: The/B-NP sandwich/I-NP was/O good/O. Sentence: \"+sentence\n",
        "\t                }\n",
        "                    ]\n",
        "\n",
        "        completion = client.chat.completions.create(\n",
        "                 #model=\"meta-llama/Meta-Llama-3-8B-Instruct\",\n",
        "                 model=\"mistralai/Mistral-7B-Instruct-v0.2\",\n",
        "\t             messages=messages,\n",
        "\t             max_tokens=500,\n",
        "                 temperature=0.0,\n",
        "            )\n",
        "\n",
        "        iob_tagged=completion.choices[0].message.content\n",
        "        iob_tagged=re.sub(\"\\n\",\" \",iob_tagged)\n",
        "        iob_tagged=re.sub(\"Here is the output: \",\"\",iob_tagged)\n",
        "        outp.write(\"Sentence:%s\\nTags:%s\\n\"%(sentence,iob_tagged))"
      ],
      "metadata": {
        "id": "j_-qDpYgqN5O"
      },
      "execution_count": 5,
      "outputs": []
    },
    {
      "cell_type": "code",
      "source": [
        "\n",
        "def main(input_file, output_file):\n",
        "    with open(input_file,\"r\") as f:\n",
        "        lines = [z for z in [x.rstrip().split(\" \") for x in f.readlines()]]\n",
        "    generate_iob_tags(lines, output_file)\n",
        "    print(\"See \", output_file)"
      ],
      "metadata": {
        "id": "6emfwDt9qTTH"
      },
      "execution_count": 12,
      "outputs": []
    },
    {
      "cell_type": "code",
      "source": [
        "main(\"det.txt\", \"iob.out\")"
      ],
      "metadata": {
        "colab": {
          "base_uri": "https://localhost:8080/"
        },
        "id": "gMuejpxcqZzl",
        "outputId": "cb58b2aa-3923-4908-a404-952764ba8d46"
      },
      "execution_count": 13,
      "outputs": [
        {
          "output_type": "stream",
          "name": "stdout",
          "text": [
            "Generating IOB tags...\n"
          ]
        },
        {
          "output_type": "stream",
          "name": "stderr",
          "text": [
            "100%|██████████| 8/8 [00:03<00:00,  2.59it/s]"
          ]
        },
        {
          "output_type": "stream",
          "name": "stdout",
          "text": [
            "See  iob.out\n"
          ]
        },
        {
          "output_type": "stream",
          "name": "stderr",
          "text": [
            "\n"
          ]
        }
      ]
    }
  ]
}